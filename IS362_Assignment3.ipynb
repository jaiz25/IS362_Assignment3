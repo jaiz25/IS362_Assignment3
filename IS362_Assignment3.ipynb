{
 "cells": [
  {
   "cell_type": "markdown",
   "metadata": {},
   "source": [
    "# Reading A Bicycle Odometer"
   ]
  },
  {
   "cell_type": "markdown",
   "metadata": {},
   "source": [
    "An odometer is an instrument used for measuring the distance traveled by a vehicle, in this case a bicycle.  Suppose I had ridden a bicycle from New York City to Key West, Florida.  The first entries for day 1 and day 2 are 55 and 120.  I will create a pandas Series object that holds the cumulative miles at the end of eah day and then show the total miles that I had rode each day.  The first two entries should have 55 miles for day 1 and 65 miles on day 2.  Let's make believe that it took us 10 days to get to Florida in a bike."
   ]
  },
  {
   "cell_type": "markdown",
   "metadata": {},
   "source": [
    "## Importing pandas"
   ]
  },
  {
   "cell_type": "code",
   "execution_count": 1,
   "metadata": {
    "collapsed": true
   },
   "outputs": [],
   "source": [
    "# We will be importing pandas as pd\n",
    "import pandas as pd"
   ]
  },
  {
   "cell_type": "markdown",
   "metadata": {},
   "source": [
    "## Create a pandas Series "
   ]
  },
  {
   "cell_type": "code",
   "execution_count": 2,
   "metadata": {},
   "outputs": [
    {
     "name": "stdout",
     "output_type": "stream",
     "text": [
      "0     55\n",
      "1    120\n",
      "2    190\n",
      "3    265\n",
      "4    350\n",
      "5    420\n",
      "6    500\n",
      "7    590\n",
      "8    685\n",
      "9    775\n",
      "dtype: int64\n"
     ]
    }
   ],
   "source": [
    "s = pd.Series([55, 120, 190, 265, 350, 420, 500, 590, 685, 775])\n",
    "print(s)"
   ]
  },
  {
   "cell_type": "code",
   "execution_count": 4,
   "metadata": {},
   "outputs": [
    {
     "name": "stdout",
     "output_type": "stream",
     "text": [
      "Day 1      55\n",
      "Day 2     120\n",
      "Day 3     190\n",
      "Day 4     265\n",
      "Day 5     350\n",
      "Day 6     420\n",
      "Day 7     500\n",
      "Day 8     590\n",
      "Day 9     685\n",
      "Day 10    775\n",
      "dtype: int64\n"
     ]
    }
   ],
   "source": [
    "# We can specify the index insted of using the default index values.\n",
    "\n",
    "s = pd.Series([55, 120, 190, 265, 350, 420, 500, 590, 685, 775], index=['Day 1', 'Day 2', 'Day 3', 'Day 4', 'Day 5', 'Day 6',\n",
    "                                                                       'Day 7', 'Day 8', 'Day 9', 'Day 10'])\n",
    "print(s)"
   ]
  },
  {
   "cell_type": "markdown",
   "metadata": {},
   "source": [
    "The output of the Series shows the cumulative total of miles at the end of each day.  To find out how much miles I rode in a day, we'll have to subtract the previous total of miles to the current total of miles."
   ]
  },
  {
   "cell_type": "code",
   "execution_count": 14,
   "metadata": {},
   "outputs": [
    {
     "name": "stdout",
     "output_type": "stream",
     "text": [
      "[65, 70, 75, 85, 70, 80, 90, 95, 90]\n"
     ]
    }
   ],
   "source": [
    "miles = [y - x for x, y in zip(s, s[1:])]\n",
    "print(miles)"
   ]
  },
  {
   "cell_type": "markdown",
   "metadata": {},
   "source": [
    "The output shows the miles I rode for each day starting with Day 2.  Because the miles I rode in Day 1 is not a cumulative total, it was unnecessary to figure it out."
   ]
  },
  {
   "cell_type": "code",
   "execution_count": 16,
   "metadata": {},
   "outputs": [
    {
     "name": "stdout",
     "output_type": "stream",
     "text": [
      "[55, 65, 70, 75, 85, 70, 80, 90, 95, 90]\n"
     ]
    }
   ],
   "source": [
    "# To add day one's miles, just insert it to the list indicating the index you want to insert it to.\n",
    "miles.insert(0, 55)\n",
    "print(miles)"
   ]
  },
  {
   "cell_type": "markdown",
   "metadata": {},
   "source": [
    "## Converting the list of miles to pandas Series"
   ]
  },
  {
   "cell_type": "code",
   "execution_count": 17,
   "metadata": {},
   "outputs": [
    {
     "name": "stdout",
     "output_type": "stream",
     "text": [
      "Day 1     55\n",
      "Day 2     65\n",
      "Day 3     70\n",
      "Day 4     75\n",
      "Day 5     85\n",
      "Day 6     70\n",
      "Day 7     80\n",
      "Day 8     90\n",
      "Day 9     95\n",
      "Day 10    90\n",
      "dtype: int64\n"
     ]
    }
   ],
   "source": [
    "# We can use the index from the s Series, instead of typing it all again\n",
    "s2 = pd.Series(miles, index=s.index)\n",
    "print(s2)"
   ]
  },
  {
   "cell_type": "code",
   "execution_count": 18,
   "metadata": {},
   "outputs": [
    {
     "name": "stdout",
     "output_type": "stream",
     "text": [
      "775\n"
     ]
    }
   ],
   "source": [
    "# Total of miles from NYC to Key West\n",
    "sum_miles = sum(s2)\n",
    "print(sum_miles)"
   ]
  },
  {
   "cell_type": "markdown",
   "metadata": {},
   "source": [
    "As we can see, it took a total of 775 miles to ride a bike from New York City to Key West, Florida in 10 days."
   ]
  }
 ],
 "metadata": {
  "kernelspec": {
   "display_name": "Python 3",
   "language": "python",
   "name": "python3"
  },
  "language_info": {
   "codemirror_mode": {
    "name": "ipython",
    "version": 3
   },
   "file_extension": ".py",
   "mimetype": "text/x-python",
   "name": "python",
   "nbconvert_exporter": "python",
   "pygments_lexer": "ipython3",
   "version": "3.6.3"
  }
 },
 "nbformat": 4,
 "nbformat_minor": 2
}
